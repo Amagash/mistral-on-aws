{
 "cells": [
  {
   "cell_type": "markdown",
   "id": "1f1d9d95-46cb-4c58-a462-a0b0327d662f",
   "metadata": {},
   "source": [
    "# Multilingual Email Translation and Model Comparison for Mistral Large 1 & Large 2\n",
    "\n",
    "## Introduction\n",
    "\n",
    "This notebook demonstrates the process of translating generated customer emails into multiple languages using Mistral Large 1 & Large 2. It leverages Amazon's Bedrock service to access these models and compare their performance across various languages. The primary goals are:\n",
    "\n",
    "1. To translate a set of customer emails into Japanese, Korean, Hindi, and Arabic.\n",
    "2. To compare the performance of two Mistral AI models: mistral-large-2407-v1:0 and mistral-large-2402-v1:0.\n",
    "3. To analyze the output quality and token usage for each model and language combination.\n",
    "\n",
    "Mistral Large 2 is more capable at generating text in multiple languages. To learn more about Mistral Large 2's language performance [click this link](https://mistral.ai/news/mistral-large-2407/)."
   ]
  },
  {
   "cell_type": "code",
   "execution_count": 34,
   "id": "f43261c1-728d-46a2-9289-6f217f44a815",
   "metadata": {
    "tags": []
   },
   "outputs": [],
   "source": [
    "import boto3\n",
    "import logging\n",
    "from botocore.config import Config\n",
    "from botocore.exceptions import ClientError"
   ]
  },
  {
   "cell_type": "markdown",
   "id": "3ad9f64c-917c-4eac-95a0-8a14fa02251a",
   "metadata": {},
   "source": [
    "Mistral Large 2 is only available in us-west-2."
   ]
  },
  {
   "cell_type": "code",
   "execution_count": 26,
   "id": "0272fb2f-9930-44bd-9121-e20b739b000f",
   "metadata": {
    "tags": []
   },
   "outputs": [],
   "source": [
    "config = Config(read_timeout=2000)\n",
    "bedrock_client = boto3.client(service_name='bedrock-runtime', region_name=\"us-west-2\", config=config)"
   ]
  },
  {
   "cell_type": "code",
   "execution_count": 27,
   "id": "1eae3675-dd23-483f-b184-abcff8fdf9c8",
   "metadata": {
    "tags": []
   },
   "outputs": [],
   "source": [
    "mistral_large_2 = 'mistral.mistral-large-2407-v1:0'\n",
    "mistral_large_1 = 'mistral.mistral-large-2402-v1:0'"
   ]
  },
  {
   "cell_type": "code",
   "execution_count": 35,
   "id": "d1c24720-2e86-4eb0-ac0b-8c4d94a3254e",
   "metadata": {
    "tags": []
   },
   "outputs": [],
   "source": [
    "INFERENCE_CONFIG = {\"temperature\": 0.0, \"maxTokens\": 4000, \"topP\": 0.1}"
   ]
  },
  {
   "cell_type": "markdown",
   "id": "7fc4acd5-749c-47bc-bd23-bca2499041b3",
   "metadata": {},
   "source": [
    "Emails are generated emails prompted by the author."
   ]
  },
  {
   "cell_type": "code",
   "execution_count": 36,
   "id": "1e1c665c-2617-4a02-a0c5-768e38be93a5",
   "metadata": {
    "tags": []
   },
   "outputs": [],
   "source": [
    "emails= \"\"\"\n",
    "\"I recently bought your RGB gaming keyboard and absolutely love the customizable lighting features! Can you guide me on how to set up different profiles for each game I play?\"\n",
    "\"I'm trying to use the macro keys on the gaming keyboard I just purchased, but they don't seem to be registering my inputs. Could you help me figure out what might be going wrong?\"\n",
    "\"I'm considering buying your gaming keyboard and I'm curious about the key switch types. What options are available and what are their main differences?\"\n",
    "\"I wanted to report a small issue where my keyboard's space bar is a bit squeaky. However, your quick-start guide was super helpful and I fixed it easily by following the lubrication tips. Just thought you might want to know!\"\n",
    "\"My new gaming keyboard stopped working within a week of purchase. None of the keys respond, and the lights don't turn on. I need a solution or a replacement as soon as possible.\"\n",
    "\"I've noticed that the letters on the keys of my gaming keyboard are starting to fade after several months of use. Is this covered by the warranty?\"\n",
    "\"I had an issue where my keyboard settings would reset every time I restarted my PC. I figured out it was due to a software conflict and resolved it by updating the firmware. Just wanted to ask if there are any new updates coming soon?\"\n",
    "\"I've been having trouble with the keyboard software not saving my configurations, and it's starting to get frustrating. What can be done to ensure my settings are saved permanently?\"\n",
    "\"\"\""
   ]
  },
  {
   "cell_type": "markdown",
   "id": "c1091a24-021a-4a5a-8749-ea3b5c4bbd2a",
   "metadata": {},
   "source": [
    "This function creates a standardized prompt for translating a set of predefined customer emails into a specified language. It takes a language as input and returns a formatted string containing the emails and translation instructions."
   ]
  },
  {
   "cell_type": "code",
   "execution_count": 37,
   "id": "4e72e2ac-63ac-4651-ab57-2e393ac8f10f",
   "metadata": {
    "tags": []
   },
   "outputs": [],
   "source": [
    "def generate_prompt(language):\n",
    "    return f\"\"\"\n",
    "emails={emails}\n",
    "Translate the following customer emails into {language}. Your responses must be numbered, only in {language}, and must adhere to only translating the emails.\n",
    "\"\"\""
   ]
  },
  {
   "cell_type": "markdown",
   "id": "23c33e74-1f92-4e57-944b-acd2ba186eef",
   "metadata": {},
   "source": [
    "Here, we're putting our Mistral Large 1 & 2 to the test. We take our translation task and run it through Large 1 & 2, seeing how each one handles it. We then gather up their responses and how much processing power they used, packaging it all neatly for easy comparison."
   ]
  },
  {
   "cell_type": "code",
   "execution_count": 38,
   "id": "8f5330ff-6cde-4a54-beb3-86806a38c16e",
   "metadata": {
    "tags": []
   },
   "outputs": [],
   "source": [
    "def compare_models(prompt):\n",
    "    models = {\n",
    "        'large_2': mistral_large_2,\n",
    "        'large_1': mistral_large_1\n",
    "    }\n",
    "    \n",
    "    results = {}\n",
    "    \n",
    "    for model_name, model_id in models.items():\n",
    "        messages = [{\"role\": \"user\", \"content\": [{\"text\": prompt}]}]\n",
    "        response = bedrock_client.converse(\n",
    "            messages=messages,\n",
    "            modelId=model_id,\n",
    "            inferenceConfig=INFERENCE_CONFIG\n",
    "        )\n",
    "        \n",
    "        generated_text = response['output']['message']['content'][0]['text']\n",
    "        usage_data = response['usage']\n",
    "        \n",
    "        results[model_name] = {\n",
    "            'generated_text': generated_text,\n",
    "            'usage_data': usage_data,\n",
    "            'full_response': response\n",
    "        }\n",
    "    \n",
    "    return results"
   ]
  },
  {
   "cell_type": "markdown",
   "id": "1fb6c49b-a6bc-41ab-a719-778fd7fe2f1d",
   "metadata": {},
   "source": [
    "## Showcasing Our Results\n",
    "\n",
    "Here, we present the outputs from Mistral Large 1 and 2. Our function displays the results of each model's translation efforts in a clear, readable format. It provides a sample of the translated text along with usage statistics for each model.\n",
    "\n",
    "We apply this process to four languages: Japanese, Korean, Hindi, and Arabic. For each language, we create a prompt, run it through both Mistral Large 1 and 2, and then display their respective outputs and performance metrics. This approach allows us to compare the models' capabilities across different languages."
   ]
  },
  {
   "cell_type": "code",
   "execution_count": 44,
   "id": "6591781b-6ce1-48e8-a4d5-126cd1b8ac05",
   "metadata": {
    "tags": []
   },
   "outputs": [
    {
     "name": "stderr",
     "output_type": "stream",
     "text": [
      "INFO:__main__:\n",
      "================================================================================\n",
      "INFO:__main__:RESULTS FOR JAPANESE\n",
      "INFO:__main__:================================================================================\n",
      "INFO:__main__:\n",
      "LARGE_2 Model:\n",
      "INFO:__main__:Generated text:\n",
      "INFO:__main__:1. 最近、RGBゲームキーボードを購入し、カスタマイズ可能なライティング機能が大好きです！ プレイする各ゲームごとに異なるプロファイルを設定する方法を教えていただけますか？\n",
      "\n",
      "2. 購入したばかりのゲームキーボードのマクロキーを使おうとしていますが、入力が反映されません。何が問題なのか教えていただけますか？\n",
      "\n",
      "3. ゲームキーボードを購入しようと考えていますが、キースイッチの種類について知りたいです。どのようなオプションがあり、それぞれの主な違いは何ですか？\n",
      "\n",
      "4. キーボードのスペースバーが少しきしむ問題がありましたが、クイックスタートガイドが非常に役立ち、潤滑のヒントに従って簡単に修理できました。知っておいていただきたいと思いました！\n",
      "\n",
      "5. 購入してから1週間で新しいゲームキーボードが動作しなくなりました。キーが反応せず、ライトも点きません。できるだけ早く解決策や交換をお願いします。\n",
      "\n",
      "6. ゲームキーボードのキーの文字が数ヶ月使用した後に消え始めていることに気づきました。これは保証に含まれますか？\n",
      "\n",
      "7. キーボードの設定がPCを再起動するたびにリセットされる問題がありました...\n",
      "INFO:__main__:\n",
      "Usage data: {'inputTokens': 372, 'outputTokens': 686, 'totalTokens': 1058}\n",
      "INFO:__main__:--------------------------------------------------------------------------------\n",
      "INFO:__main__:\n",
      "LARGE_1 Model:\n",
      "INFO:__main__:Generated text:\n",
      "INFO:__main__:1.「最近に購入したRGBゲーミングキーボードは、カスタマイズ可能なライティング機能がとても好きです！各ゲームに対して異なるプロファイルを設定する方法をガイドくださいませんか？」\n",
      "\n",
      "2.「今までに購入したゲーミングキーボードのマクロキーを使おうとしていますが、入力が認識されません。何か問題があるのでしょうか？助けてください。」\n",
      "\n",
      "3.「ゲーミングキーボードを購入考えていますが、キースイッチのタイプについて気になっています。どのようなオプションがあり、それぞれの主な違いは何ですか？」\n",
      "\n",
      "4.「キーボードのスペースバーがちょっとした問題によりシーシー鳴りをしていました。しかし、迅速なスタートガイドはとても役立ち、潤滑油の使用方法に従って簡単に修理することができました。知らせておきたかったんです！」\n",
      "\n",
      "5.「新しく購入したゲーミングキーボードが、購入後すぐさまに動作を停止しました。キーが反応しないし、ライトもつきません。できるだけ早く解決策または交換を希望しています。」\n",
      "\n",
      "6.「ゲーミングキーボードのキーに表示されている文字が、数か月の使用後に薄れ始めました。保証にカバーされていますか？」\n",
      "...\n",
      "INFO:__main__:\n",
      "Usage data: {'inputTokens': 372, 'outputTokens': 726, 'totalTokens': 1098}\n",
      "INFO:__main__:--------------------------------------------------------------------------------\n",
      "INFO:__main__:\n",
      "USAGE COMPARISON:\n",
      "INFO:__main__:  large_2: {'inputTokens': 372, 'outputTokens': 686, 'totalTokens': 1058}\n",
      "INFO:__main__:  large_1: {'inputTokens': 372, 'outputTokens': 726, 'totalTokens': 1098}\n",
      "INFO:__main__:\n",
      "================================================================================\n",
      "INFO:__main__:RESULTS FOR KOREAN\n",
      "INFO:__main__:================================================================================\n",
      "INFO:__main__:\n",
      "LARGE_2 Model:\n",
      "INFO:__main__:Generated text:\n",
      "INFO:__main__:1. \"최근에 당신의 RGB 게이밍 키보드를 구매했는데, 맞춤형 조명 기능이 정말 마음에 듭니다! 각 게임마다 다른 프로필을 설정하는 방법을 안내해 주실 수 있나요?\"\n",
      "\n",
      "2. \"방금 구매한 게이밍 키보드의 매크로 키를 사용하려고 하는데, 입력이 인식되지 않는 것 같습니다. 무엇이 문제인지 알 수 있을까요?\"\n",
      "\n",
      "3. \"당신의 게이밍 키보드를 구매하려고 하는데, 키 스위치 종류에 대해 궁금합니다. 어떤 옵션이 있고, 주요 차이점은 무엇인가요?\"\n",
      "\n",
      "4. \"키보드의 스페이스 바가 약간 삐걱거리는 작은 문제가 있었습니다. 하지만 빠른 시작 가이드가 매우 도움이 되어 윤활 팁을 따라 쉽게 해결했습니다. 알려드리고 싶었습니다!\"\n",
      "\n",
      "5. \"새로 구매한 게이밍 키보드가 구매 후 일주 만에 작동을 멈췄습니다. 어떤 키도 반응하지 않고, 불빛도 켜지지 않습니다. 가능한 한 빨리 해결책이나 교체가 필요합니다.\"\n",
      "\n",
      "6. \"게이밍 키보드의 키 글자가 몇 달 사용 후 지워지기 시작했습니다. 이것이 보증에 포함...\n",
      "INFO:__main__:\n",
      "Usage data: {'inputTokens': 372, 'outputTokens': 734, 'totalTokens': 1106}\n",
      "INFO:__main__:--------------------------------------------------------------------------------\n",
      "INFO:__main__:\n",
      "LARGE_1 Model:\n",
      "INFO:__main__:Generated text:\n",
      "INFO:__main__:1. \"최근에 여러 게임을 플레이할 때 다른 프로파일을 설정할 수 있는 RGB 게이밍 키보드를 구입했는데, 이 기능을 어떻게 설정하면 되는지 안내해 주시겠어요?\"\n",
      "2. \"방금 구입한 게이밍 키보드의 매크로 키를 사용하려고 하는데, 입력이 제대로 인식되지 않는 것 같습니다. 문제가 무엇일 수 있는지 도와주시겠어요?\"\n",
      "3. \"게이밍 키보드를 구매하려고 고민 중인데, 키 스위치 타입에 대해서 궁금합니다. 어떤 옵션이 있고, 각각의 특징은 무엇인가요?\"\n",
      "4. \"키보드의 스페이스바가 약간 귀엽게 소리나는 문제가 있었는데, 빠른 시작 가이드에 있는 마찰감 처리 방법을 따라해서 쉽게 해결할 수 있었습니다. 알려드리는 것으로 감사드립니다!\"\n",
      "5. \"새로 구입한 게이밍 키보드가 일주일 만에 작동하지 않는 문제가 생겼습니다. 키보드의 키가 반응하지 않고, 등이 켜지지도 않습니다. 즉각적인 해결책이나 교체가 가능한지 알려주세요.\"\n",
      "6. \"게이밍 키보드의 키 문자가 몇 개월 사용 후 서서히 지워지는 것 ...\n",
      "INFO:__main__:\n",
      "Usage data: {'inputTokens': 372, 'outputTokens': 755, 'totalTokens': 1127}\n",
      "INFO:__main__:--------------------------------------------------------------------------------\n",
      "INFO:__main__:\n",
      "USAGE COMPARISON:\n",
      "INFO:__main__:  large_2: {'inputTokens': 372, 'outputTokens': 734, 'totalTokens': 1106}\n",
      "INFO:__main__:  large_1: {'inputTokens': 372, 'outputTokens': 755, 'totalTokens': 1127}\n",
      "INFO:__main__:\n",
      "================================================================================\n",
      "INFO:__main__:RESULTS FOR HINDI\n",
      "INFO:__main__:================================================================================\n",
      "INFO:__main__:\n",
      "LARGE_2 Model:\n",
      "INFO:__main__:Generated text:\n",
      "INFO:__main__:1. \"मैंने हाल ही में आपका RGB गेमिंग कीबोर्ड खरीदा और कस्टमाइजेबल लाइटिंग फीचर्स से पूरी तरह प्यार करता हूँ! क्या आप मुझे बता सकते हैं कि मैं हर गेम के लिए अलग-अलग प्रोफाइल कैसे सेट कर सकता हूँ?\"\n",
      "\n",
      "2. \"मैं अभी खरीदे गए गेमिंग कीबोर्ड पर मैक्रो कीज का उपयोग करने की कोशिश कर रहा हूँ, लेकिन वे मेरे इनपुट्स को रजिस्टर नहीं कर रहे हैं। क्या आप मुझे बता सकते हैं कि क्या गलत हो सकता है?\"\n",
      "\n",
      "3. \"मैं आपका गेमिंग कीबोर्ड खरीदने के बारे में सोच रहा हूँ और मुझे की स्विच टाइप्स के बारे में जानना है। क्या उपलब्ध...\n",
      "INFO:__main__:\n",
      "Usage data: {'inputTokens': 374, 'outputTokens': 1566, 'totalTokens': 1940}\n",
      "INFO:__main__:--------------------------------------------------------------------------------\n",
      "INFO:__main__:\n",
      "LARGE_1 Model:\n",
      "INFO:__main__:Generated text:\n",
      "INFO:__main__:1. \"मैंने हाल ही में आपका RGB गेमिंग कीबोर्ड खरीदा है और पूर्णतः पसंद करता हूँ कि किसी भी गेम के लिए अलग-अलग प्रोफाइल्स सेट अप कैसे किया जाएगा! क्या आप मुझे गाइड कर सकते हैं?\"\n",
      "2. \"मैं अभी खरीदा हुआ गेमिंग कीबोर्ड के मैक्रो कीस का उपयोग करने की कोशिश रहा हूँ, लेकिन वे मेरे इनपुट्स को रजिस्टर नहीं कर रहे हैं। क्या आप मुझे यह समझा सकते हैं कि क्या गलत हो सकता है?\"\n",
      "3. \"मैं आपके गेमिंग कीबोर्ड की खरीदारी करने के लिए सोच रहा हूँ और की स्विच प्रकारों के बारे में उत्सुक हूँ। मुझे क्या विकल्प उपलब्ध हैं ...\n",
      "INFO:__main__:\n",
      "Usage data: {'inputTokens': 374, 'outputTokens': 4000, 'totalTokens': 4374}\n",
      "INFO:__main__:--------------------------------------------------------------------------------\n",
      "INFO:__main__:\n",
      "USAGE COMPARISON:\n",
      "INFO:__main__:  large_2: {'inputTokens': 374, 'outputTokens': 1566, 'totalTokens': 1940}\n",
      "INFO:__main__:  large_1: {'inputTokens': 374, 'outputTokens': 4000, 'totalTokens': 4374}\n",
      "INFO:__main__:\n",
      "================================================================================\n",
      "INFO:__main__:RESULTS FOR ARABIC\n",
      "INFO:__main__:================================================================================\n",
      "INFO:__main__:\n",
      "LARGE_2 Model:\n",
      "INFO:__main__:Generated text:\n",
      "INFO:__main__:1. \"اشتريت للتو لوحة مفاتيح الألعاب الخاصة بكم التي تدعم تخصيص الإضاءة وأحببتها حقًا! هل يمكنكم إرشادي على كيفية إعداد ملفات تعريف مختلفة لكل لعبة ألعبها؟\"\n",
      "2. \"أحاول استخدام مفاتيح الماكرو على لوحة مفاتيح الألعاب التي اشتريتها للتو، لكنها لا تبدو تسجل مدخلاتي. هل يمكنكم مساعدتي في معرفة ما قد يكون خاطئًا؟\"\n",
      "3. \"أفكر في شراء لوحة مفاتيح الألعاب الخاصة بكم وأنا فضولي بشأن أنواع مفاتيح التبديل. ما هي الخيارات المتاحة وما هي الاختلافات الرئيسية بينها؟\"\n",
      "4. \"أردت أن أبلغ عن مشكلة صغيرة حيث أن مفتاح الم...\n",
      "INFO:__main__:\n",
      "Usage data: {'inputTokens': 374, 'outputTokens': 1185, 'totalTokens': 1559}\n",
      "INFO:__main__:--------------------------------------------------------------------------------\n",
      "INFO:__main__:\n",
      "LARGE_1 Model:\n",
      "INFO:__main__:Generated text:\n",
      "INFO:__main__:1. \"لقد اشتريت لوحة مفاتيح اللعب RGB الخاصة بك حديثًا وأحب بشكل كبير ميزات تخصيص الإضاءة! هل يمكنك توجيهي لتعيين ملفات التعريف المختلفة لكل لعبة ألعابي?\"\n",
      "2. \"أحاول استخدام مفاتيح الماكرو على لوحة مفاتيح اللعب التي اشتريتها حديثًا، ولكنها لا تبدو تسجل إدخالاتي. هل يمكنك مساعدتي في تحديد المشكلة?\"\n",
      "3. \"أعتزم شراء لوحة مفاتيح اللعب الخاصة بك وأنا في حاجة إلى معرفة أنواع أسرعات المفاتيح. ما هي الخيارات المتاحة وما هي الفوارق الرئيسية بينها?\"\n",
      "4. \"أريد إبلاغ عن مشكلة صغيرة حيث أن مسبار الفراغ في لوحة م...\n",
      "INFO:__main__:\n",
      "Usage data: {'inputTokens': 374, 'outputTokens': 1162, 'totalTokens': 1536}\n",
      "INFO:__main__:--------------------------------------------------------------------------------\n",
      "INFO:__main__:\n",
      "USAGE COMPARISON:\n",
      "INFO:__main__:  large_2: {'inputTokens': 374, 'outputTokens': 1185, 'totalTokens': 1559}\n",
      "INFO:__main__:  large_1: {'inputTokens': 374, 'outputTokens': 1162, 'totalTokens': 1536}\n"
     ]
    }
   ],
   "source": [
    "def print_results_and_compare(results, language):\n",
    "    logger.info(f\"\\n{'=' * 80}\")\n",
    "    logger.info(f\"RESULTS FOR {language.upper()}\")\n",
    "    logger.info(f\"{'=' * 80}\")\n",
    "\n",
    "    for model_name, data in results.items():\n",
    "        logger.info(f\"\\n{model_name.upper()} Model:\")\n",
    "        logger.info(\"Generated text:\")\n",
    "        logger.info(f\"{data['generated_text'][:500]}...\")  # Print first 500 characters\n",
    "        logger.info(f\"\\nUsage data: {data['usage_data']}\")\n",
    "        logger.info(\"-\" * 80)\n",
    "\n",
    "    logger.info(\"\\nUSAGE COMPARISON:\")\n",
    "    for model, data in results.items():\n",
    "        logger.info(f\"  {model}: {data['usage_data']}\")\n",
    "\n",
    "# Example usage\n",
    "languages = ['Japanese', 'Korean', 'Hindi', 'Arabic']\n",
    "\n",
    "for language in languages:\n",
    "    prompt = generate_prompt(language)\n",
    "    results = compare_models(prompt)\n",
    "    print_results_and_compare(results, language)"
   ]
  }
 ],
 "metadata": {
  "availableInstances": [
   {
    "_defaultOrder": 0,
    "_isFastLaunch": true,
    "category": "General purpose",
    "gpuNum": 0,
    "hideHardwareSpecs": false,
    "memoryGiB": 4,
    "name": "ml.t3.medium",
    "vcpuNum": 2
   },
   {
    "_defaultOrder": 1,
    "_isFastLaunch": false,
    "category": "General purpose",
    "gpuNum": 0,
    "hideHardwareSpecs": false,
    "memoryGiB": 8,
    "name": "ml.t3.large",
    "vcpuNum": 2
   },
   {
    "_defaultOrder": 2,
    "_isFastLaunch": false,
    "category": "General purpose",
    "gpuNum": 0,
    "hideHardwareSpecs": false,
    "memoryGiB": 16,
    "name": "ml.t3.xlarge",
    "vcpuNum": 4
   },
   {
    "_defaultOrder": 3,
    "_isFastLaunch": false,
    "category": "General purpose",
    "gpuNum": 0,
    "hideHardwareSpecs": false,
    "memoryGiB": 32,
    "name": "ml.t3.2xlarge",
    "vcpuNum": 8
   },
   {
    "_defaultOrder": 4,
    "_isFastLaunch": true,
    "category": "General purpose",
    "gpuNum": 0,
    "hideHardwareSpecs": false,
    "memoryGiB": 8,
    "name": "ml.m5.large",
    "vcpuNum": 2
   },
   {
    "_defaultOrder": 5,
    "_isFastLaunch": false,
    "category": "General purpose",
    "gpuNum": 0,
    "hideHardwareSpecs": false,
    "memoryGiB": 16,
    "name": "ml.m5.xlarge",
    "vcpuNum": 4
   },
   {
    "_defaultOrder": 6,
    "_isFastLaunch": false,
    "category": "General purpose",
    "gpuNum": 0,
    "hideHardwareSpecs": false,
    "memoryGiB": 32,
    "name": "ml.m5.2xlarge",
    "vcpuNum": 8
   },
   {
    "_defaultOrder": 7,
    "_isFastLaunch": false,
    "category": "General purpose",
    "gpuNum": 0,
    "hideHardwareSpecs": false,
    "memoryGiB": 64,
    "name": "ml.m5.4xlarge",
    "vcpuNum": 16
   },
   {
    "_defaultOrder": 8,
    "_isFastLaunch": false,
    "category": "General purpose",
    "gpuNum": 0,
    "hideHardwareSpecs": false,
    "memoryGiB": 128,
    "name": "ml.m5.8xlarge",
    "vcpuNum": 32
   },
   {
    "_defaultOrder": 9,
    "_isFastLaunch": false,
    "category": "General purpose",
    "gpuNum": 0,
    "hideHardwareSpecs": false,
    "memoryGiB": 192,
    "name": "ml.m5.12xlarge",
    "vcpuNum": 48
   },
   {
    "_defaultOrder": 10,
    "_isFastLaunch": false,
    "category": "General purpose",
    "gpuNum": 0,
    "hideHardwareSpecs": false,
    "memoryGiB": 256,
    "name": "ml.m5.16xlarge",
    "vcpuNum": 64
   },
   {
    "_defaultOrder": 11,
    "_isFastLaunch": false,
    "category": "General purpose",
    "gpuNum": 0,
    "hideHardwareSpecs": false,
    "memoryGiB": 384,
    "name": "ml.m5.24xlarge",
    "vcpuNum": 96
   },
   {
    "_defaultOrder": 12,
    "_isFastLaunch": false,
    "category": "General purpose",
    "gpuNum": 0,
    "hideHardwareSpecs": false,
    "memoryGiB": 8,
    "name": "ml.m5d.large",
    "vcpuNum": 2
   },
   {
    "_defaultOrder": 13,
    "_isFastLaunch": false,
    "category": "General purpose",
    "gpuNum": 0,
    "hideHardwareSpecs": false,
    "memoryGiB": 16,
    "name": "ml.m5d.xlarge",
    "vcpuNum": 4
   },
   {
    "_defaultOrder": 14,
    "_isFastLaunch": false,
    "category": "General purpose",
    "gpuNum": 0,
    "hideHardwareSpecs": false,
    "memoryGiB": 32,
    "name": "ml.m5d.2xlarge",
    "vcpuNum": 8
   },
   {
    "_defaultOrder": 15,
    "_isFastLaunch": false,
    "category": "General purpose",
    "gpuNum": 0,
    "hideHardwareSpecs": false,
    "memoryGiB": 64,
    "name": "ml.m5d.4xlarge",
    "vcpuNum": 16
   },
   {
    "_defaultOrder": 16,
    "_isFastLaunch": false,
    "category": "General purpose",
    "gpuNum": 0,
    "hideHardwareSpecs": false,
    "memoryGiB": 128,
    "name": "ml.m5d.8xlarge",
    "vcpuNum": 32
   },
   {
    "_defaultOrder": 17,
    "_isFastLaunch": false,
    "category": "General purpose",
    "gpuNum": 0,
    "hideHardwareSpecs": false,
    "memoryGiB": 192,
    "name": "ml.m5d.12xlarge",
    "vcpuNum": 48
   },
   {
    "_defaultOrder": 18,
    "_isFastLaunch": false,
    "category": "General purpose",
    "gpuNum": 0,
    "hideHardwareSpecs": false,
    "memoryGiB": 256,
    "name": "ml.m5d.16xlarge",
    "vcpuNum": 64
   },
   {
    "_defaultOrder": 19,
    "_isFastLaunch": false,
    "category": "General purpose",
    "gpuNum": 0,
    "hideHardwareSpecs": false,
    "memoryGiB": 384,
    "name": "ml.m5d.24xlarge",
    "vcpuNum": 96
   },
   {
    "_defaultOrder": 20,
    "_isFastLaunch": false,
    "category": "General purpose",
    "gpuNum": 0,
    "hideHardwareSpecs": true,
    "memoryGiB": 0,
    "name": "ml.geospatial.interactive",
    "supportedImageNames": [
     "sagemaker-geospatial-v1-0"
    ],
    "vcpuNum": 0
   },
   {
    "_defaultOrder": 21,
    "_isFastLaunch": true,
    "category": "Compute optimized",
    "gpuNum": 0,
    "hideHardwareSpecs": false,
    "memoryGiB": 4,
    "name": "ml.c5.large",
    "vcpuNum": 2
   },
   {
    "_defaultOrder": 22,
    "_isFastLaunch": false,
    "category": "Compute optimized",
    "gpuNum": 0,
    "hideHardwareSpecs": false,
    "memoryGiB": 8,
    "name": "ml.c5.xlarge",
    "vcpuNum": 4
   },
   {
    "_defaultOrder": 23,
    "_isFastLaunch": false,
    "category": "Compute optimized",
    "gpuNum": 0,
    "hideHardwareSpecs": false,
    "memoryGiB": 16,
    "name": "ml.c5.2xlarge",
    "vcpuNum": 8
   },
   {
    "_defaultOrder": 24,
    "_isFastLaunch": false,
    "category": "Compute optimized",
    "gpuNum": 0,
    "hideHardwareSpecs": false,
    "memoryGiB": 32,
    "name": "ml.c5.4xlarge",
    "vcpuNum": 16
   },
   {
    "_defaultOrder": 25,
    "_isFastLaunch": false,
    "category": "Compute optimized",
    "gpuNum": 0,
    "hideHardwareSpecs": false,
    "memoryGiB": 72,
    "name": "ml.c5.9xlarge",
    "vcpuNum": 36
   },
   {
    "_defaultOrder": 26,
    "_isFastLaunch": false,
    "category": "Compute optimized",
    "gpuNum": 0,
    "hideHardwareSpecs": false,
    "memoryGiB": 96,
    "name": "ml.c5.12xlarge",
    "vcpuNum": 48
   },
   {
    "_defaultOrder": 27,
    "_isFastLaunch": false,
    "category": "Compute optimized",
    "gpuNum": 0,
    "hideHardwareSpecs": false,
    "memoryGiB": 144,
    "name": "ml.c5.18xlarge",
    "vcpuNum": 72
   },
   {
    "_defaultOrder": 28,
    "_isFastLaunch": false,
    "category": "Compute optimized",
    "gpuNum": 0,
    "hideHardwareSpecs": false,
    "memoryGiB": 192,
    "name": "ml.c5.24xlarge",
    "vcpuNum": 96
   },
   {
    "_defaultOrder": 29,
    "_isFastLaunch": true,
    "category": "Accelerated computing",
    "gpuNum": 1,
    "hideHardwareSpecs": false,
    "memoryGiB": 16,
    "name": "ml.g4dn.xlarge",
    "vcpuNum": 4
   },
   {
    "_defaultOrder": 30,
    "_isFastLaunch": false,
    "category": "Accelerated computing",
    "gpuNum": 1,
    "hideHardwareSpecs": false,
    "memoryGiB": 32,
    "name": "ml.g4dn.2xlarge",
    "vcpuNum": 8
   },
   {
    "_defaultOrder": 31,
    "_isFastLaunch": false,
    "category": "Accelerated computing",
    "gpuNum": 1,
    "hideHardwareSpecs": false,
    "memoryGiB": 64,
    "name": "ml.g4dn.4xlarge",
    "vcpuNum": 16
   },
   {
    "_defaultOrder": 32,
    "_isFastLaunch": false,
    "category": "Accelerated computing",
    "gpuNum": 1,
    "hideHardwareSpecs": false,
    "memoryGiB": 128,
    "name": "ml.g4dn.8xlarge",
    "vcpuNum": 32
   },
   {
    "_defaultOrder": 33,
    "_isFastLaunch": false,
    "category": "Accelerated computing",
    "gpuNum": 4,
    "hideHardwareSpecs": false,
    "memoryGiB": 192,
    "name": "ml.g4dn.12xlarge",
    "vcpuNum": 48
   },
   {
    "_defaultOrder": 34,
    "_isFastLaunch": false,
    "category": "Accelerated computing",
    "gpuNum": 1,
    "hideHardwareSpecs": false,
    "memoryGiB": 256,
    "name": "ml.g4dn.16xlarge",
    "vcpuNum": 64
   },
   {
    "_defaultOrder": 35,
    "_isFastLaunch": false,
    "category": "Accelerated computing",
    "gpuNum": 1,
    "hideHardwareSpecs": false,
    "memoryGiB": 61,
    "name": "ml.p3.2xlarge",
    "vcpuNum": 8
   },
   {
    "_defaultOrder": 36,
    "_isFastLaunch": false,
    "category": "Accelerated computing",
    "gpuNum": 4,
    "hideHardwareSpecs": false,
    "memoryGiB": 244,
    "name": "ml.p3.8xlarge",
    "vcpuNum": 32
   },
   {
    "_defaultOrder": 37,
    "_isFastLaunch": false,
    "category": "Accelerated computing",
    "gpuNum": 8,
    "hideHardwareSpecs": false,
    "memoryGiB": 488,
    "name": "ml.p3.16xlarge",
    "vcpuNum": 64
   },
   {
    "_defaultOrder": 38,
    "_isFastLaunch": false,
    "category": "Accelerated computing",
    "gpuNum": 8,
    "hideHardwareSpecs": false,
    "memoryGiB": 768,
    "name": "ml.p3dn.24xlarge",
    "vcpuNum": 96
   },
   {
    "_defaultOrder": 39,
    "_isFastLaunch": false,
    "category": "Memory Optimized",
    "gpuNum": 0,
    "hideHardwareSpecs": false,
    "memoryGiB": 16,
    "name": "ml.r5.large",
    "vcpuNum": 2
   },
   {
    "_defaultOrder": 40,
    "_isFastLaunch": false,
    "category": "Memory Optimized",
    "gpuNum": 0,
    "hideHardwareSpecs": false,
    "memoryGiB": 32,
    "name": "ml.r5.xlarge",
    "vcpuNum": 4
   },
   {
    "_defaultOrder": 41,
    "_isFastLaunch": false,
    "category": "Memory Optimized",
    "gpuNum": 0,
    "hideHardwareSpecs": false,
    "memoryGiB": 64,
    "name": "ml.r5.2xlarge",
    "vcpuNum": 8
   },
   {
    "_defaultOrder": 42,
    "_isFastLaunch": false,
    "category": "Memory Optimized",
    "gpuNum": 0,
    "hideHardwareSpecs": false,
    "memoryGiB": 128,
    "name": "ml.r5.4xlarge",
    "vcpuNum": 16
   },
   {
    "_defaultOrder": 43,
    "_isFastLaunch": false,
    "category": "Memory Optimized",
    "gpuNum": 0,
    "hideHardwareSpecs": false,
    "memoryGiB": 256,
    "name": "ml.r5.8xlarge",
    "vcpuNum": 32
   },
   {
    "_defaultOrder": 44,
    "_isFastLaunch": false,
    "category": "Memory Optimized",
    "gpuNum": 0,
    "hideHardwareSpecs": false,
    "memoryGiB": 384,
    "name": "ml.r5.12xlarge",
    "vcpuNum": 48
   },
   {
    "_defaultOrder": 45,
    "_isFastLaunch": false,
    "category": "Memory Optimized",
    "gpuNum": 0,
    "hideHardwareSpecs": false,
    "memoryGiB": 512,
    "name": "ml.r5.16xlarge",
    "vcpuNum": 64
   },
   {
    "_defaultOrder": 46,
    "_isFastLaunch": false,
    "category": "Memory Optimized",
    "gpuNum": 0,
    "hideHardwareSpecs": false,
    "memoryGiB": 768,
    "name": "ml.r5.24xlarge",
    "vcpuNum": 96
   },
   {
    "_defaultOrder": 47,
    "_isFastLaunch": false,
    "category": "Accelerated computing",
    "gpuNum": 1,
    "hideHardwareSpecs": false,
    "memoryGiB": 16,
    "name": "ml.g5.xlarge",
    "vcpuNum": 4
   },
   {
    "_defaultOrder": 48,
    "_isFastLaunch": false,
    "category": "Accelerated computing",
    "gpuNum": 1,
    "hideHardwareSpecs": false,
    "memoryGiB": 32,
    "name": "ml.g5.2xlarge",
    "vcpuNum": 8
   },
   {
    "_defaultOrder": 49,
    "_isFastLaunch": false,
    "category": "Accelerated computing",
    "gpuNum": 1,
    "hideHardwareSpecs": false,
    "memoryGiB": 64,
    "name": "ml.g5.4xlarge",
    "vcpuNum": 16
   },
   {
    "_defaultOrder": 50,
    "_isFastLaunch": false,
    "category": "Accelerated computing",
    "gpuNum": 1,
    "hideHardwareSpecs": false,
    "memoryGiB": 128,
    "name": "ml.g5.8xlarge",
    "vcpuNum": 32
   },
   {
    "_defaultOrder": 51,
    "_isFastLaunch": false,
    "category": "Accelerated computing",
    "gpuNum": 1,
    "hideHardwareSpecs": false,
    "memoryGiB": 256,
    "name": "ml.g5.16xlarge",
    "vcpuNum": 64
   },
   {
    "_defaultOrder": 52,
    "_isFastLaunch": false,
    "category": "Accelerated computing",
    "gpuNum": 4,
    "hideHardwareSpecs": false,
    "memoryGiB": 192,
    "name": "ml.g5.12xlarge",
    "vcpuNum": 48
   },
   {
    "_defaultOrder": 53,
    "_isFastLaunch": false,
    "category": "Accelerated computing",
    "gpuNum": 4,
    "hideHardwareSpecs": false,
    "memoryGiB": 384,
    "name": "ml.g5.24xlarge",
    "vcpuNum": 96
   },
   {
    "_defaultOrder": 54,
    "_isFastLaunch": false,
    "category": "Accelerated computing",
    "gpuNum": 8,
    "hideHardwareSpecs": false,
    "memoryGiB": 768,
    "name": "ml.g5.48xlarge",
    "vcpuNum": 192
   },
   {
    "_defaultOrder": 55,
    "_isFastLaunch": false,
    "category": "Accelerated computing",
    "gpuNum": 8,
    "hideHardwareSpecs": false,
    "memoryGiB": 1152,
    "name": "ml.p4d.24xlarge",
    "vcpuNum": 96
   },
   {
    "_defaultOrder": 56,
    "_isFastLaunch": false,
    "category": "Accelerated computing",
    "gpuNum": 8,
    "hideHardwareSpecs": false,
    "memoryGiB": 1152,
    "name": "ml.p4de.24xlarge",
    "vcpuNum": 96
   },
   {
    "_defaultOrder": 57,
    "_isFastLaunch": false,
    "category": "Accelerated computing",
    "gpuNum": 0,
    "hideHardwareSpecs": false,
    "memoryGiB": 32,
    "name": "ml.trn1.2xlarge",
    "vcpuNum": 8
   },
   {
    "_defaultOrder": 58,
    "_isFastLaunch": false,
    "category": "Accelerated computing",
    "gpuNum": 0,
    "hideHardwareSpecs": false,
    "memoryGiB": 512,
    "name": "ml.trn1.32xlarge",
    "vcpuNum": 128
   },
   {
    "_defaultOrder": 59,
    "_isFastLaunch": false,
    "category": "Accelerated computing",
    "gpuNum": 0,
    "hideHardwareSpecs": false,
    "memoryGiB": 512,
    "name": "ml.trn1n.32xlarge",
    "vcpuNum": 128
   }
  ],
  "instance_type": "ml.t3.medium",
  "kernelspec": {
   "display_name": "Python 3 (Data Science 3.0)",
   "language": "python",
   "name": "python3__SAGEMAKER_INTERNAL__arn:aws:sagemaker:us-west-2:236514542706:image/sagemaker-data-science-310-v1"
  },
  "language_info": {
   "codemirror_mode": {
    "name": "ipython",
    "version": 3
   },
   "file_extension": ".py",
   "mimetype": "text/x-python",
   "name": "python",
   "nbconvert_exporter": "python",
   "pygments_lexer": "ipython3",
   "version": "3.10.6"
  }
 },
 "nbformat": 4,
 "nbformat_minor": 5
}
